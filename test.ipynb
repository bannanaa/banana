{
 "cells": [
  {
   "cell_type": "code",
   "execution_count": 1,
   "id": "048bd6b8",
   "metadata": {},
   "outputs": [],
   "source": [
    "import datapane as dp\n",
    "from vega_datasets import data\n",
    "\n",
    "import plotly.express as px\n",
    "\n",
    "df = data.iris()\n",
    "columns = list(df.columns)\n",
    "\n",
    "\n",
    "g_fig1 = px.scatter(df,x='sepalLength',y='sepalWidth',color='species')\n",
    "g_fig2 = px.scatter(df,x='petalLength',y='petalWidth',color='species')\n",
    "\n",
    "# g_fig\n",
    "\n",
    "view = dp.Blocks(\n",
    "        dp.Page(\n",
    "            title = 'Sepal'\n",
    "            , blocks = [\n",
    "                '# Markdown available'\n",
    "                 , dp.Plot(g_fig1, label=\"Plot\")\n",
    "                 , dp.DataTable(df[['sepalLength','sepalWidth','species']], label=\"Data\")    \n",
    "            ]\n",
    "            \n",
    "        )\n",
    "    ,dp.Page(\n",
    "            title = 'Petal'\n",
    "            , blocks = [\n",
    "                '## TEST'\n",
    "                , dp.Plot(g_fig2, label=\"Plot\")\n",
    "                , dp.DataTable(df[['petalLength','petalWidth','species']], label=\"Data\")\n",
    "                \n",
    "            ]\n",
    "            \n",
    "        )\n",
    "    ,VAlign = 'left'\n",
    "\n",
    "\n",
    ")\n",
    "dp.save_report(view,path='test.html')\n",
    "\n"
   ]
  }
 ],
 "metadata": {
  "kernelspec": {
   "display_name": "Python 3 (ipykernel)",
   "language": "python",
   "name": "python3"
  },
  "language_info": {
   "codemirror_mode": {
    "name": "ipython",
    "version": 3
   },
   "file_extension": ".py",
   "mimetype": "text/x-python",
   "name": "python",
   "nbconvert_exporter": "python",
   "pygments_lexer": "ipython3",
   "version": "3.9.13"
  }
 },
 "nbformat": 4,
 "nbformat_minor": 5
}
